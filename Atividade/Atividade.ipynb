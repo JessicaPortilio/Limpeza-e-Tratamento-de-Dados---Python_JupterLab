{
 "cells": [
  {
   "cell_type": "code",
   "execution_count": null,
   "id": "b0f1e24b-ff16-4447-81f2-cf5b23cc4cf1",
   "metadata": {},
   "outputs": [],
   "source": [
    "# Tratar dados \"tempo.csv\"\n",
    "# Aparência: sol, nublado, chuva\n",
    "# Temperatura: -130~130F\n",
    "# Umidade: 0~100\n",
    "# Jogar: sim/nao\n",
    "# Tratar valores NAs"
   ]
  }
 ],
 "metadata": {
  "kernelspec": {
   "display_name": "Python 3 (ipykernel)",
   "language": "python",
   "name": "python3"
  },
  "language_info": {
   "codemirror_mode": {
    "name": "ipython",
    "version": 3
   },
   "file_extension": ".py",
   "mimetype": "text/x-python",
   "name": "python",
   "nbconvert_exporter": "python",
   "pygments_lexer": "ipython3",
   "version": "3.9.7"
  }
 },
 "nbformat": 4,
 "nbformat_minor": 5
}
